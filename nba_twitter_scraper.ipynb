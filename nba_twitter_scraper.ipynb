{
 "cells": [
  {
   "cell_type": "code",
   "execution_count": 72,
   "metadata": {},
   "outputs": [],
   "source": [
    "# Getting nba player tweets "
   ]
  },
  {
   "cell_type": "code",
   "execution_count": 19,
   "metadata": {},
   "outputs": [],
   "source": [
    "import json\n",
    "import twython\n",
    "import os\n",
    "import requests\n",
    "import time\n",
    "import pandas as pd\n",
    "\n",
    "ACCESS_KEY = \"784812532716503041-WVRe39SiczgsaEvL5YsGCMF2l4VqfaH\"\n",
    "ACCESS_SECRET = \"lOK9EaNEQnR0VxbmWcJcZIf6NL9zsuTlidgLN1SHUfSTS\"\n",
    "CONSUMER_KEY = \"F47APbk293xh7YiGA9x5RSklt\"\n",
    "CONSUMER_SECRET = \"5G0bs8fdUQ0elmC3a7gvqiup7DWVUHFVDryI3LrhFGdgcXPeCO\"\n",
    "\n",
    "# create my_twitter folder\n",
    "if not os.path.exists('my_twitter'):os.mkdir('my_twitter')\n",
    "\n",
    "twitter = twython.Twython(CONSUMER_KEY,CONSUMER_SECRET,ACCESS_KEY,ACCESS_SECRET)\n",
    "# screen_name, player's twitter name; start_id, the oldest tweet id; max_id, the latest tweet id\n",
    "\n",
    "#filname = \"kylekuzma\" Kyle Kuzma\n",
    "#filname = 'ZO2_' Lonzo Ball \n",
    "#filname = 'LeaderOfHorde' Bogdan Bogdanovic \n",
    "#filname = 'dillonbrooks24' Dillon Brooks\n",
    "#filname = 'JoelEmbiid' Joel Embiid\n",
    "#filname = 'buddyhield' Buddy Hield\n",
    "#filname = 'MalcolmMBrogdon' Malcolm Brogdon\n",
    "#filname = 'FCHWPO' Jaylen Brown\n",
    "#filname = 'MarkkanenLauri' Lauri Markkanen\n",
    "#filname = 'KrisDunn3' Kris Dunn\n",
    "#filname = 'swipathefox' De’Aaron Fox\n",
    "#filname = 'BeMore27' Jamal Murray\n",
    "#filname = 'FrankLikina' Frank Ntilikina\n",
    "#filname = 'B_Ingram13' Brandon Ingram\n",
    "#filname = 'spidadmitchell' Donovan Mitchell\n",
    "#filname = 'Dsabonis11' Domantas Sabonis\n",
    "#filname = 'taureanprince' Taurean Prince\n",
    "# filname = 'BenSimmons25' #Ben Simmons\n",
    "#filname = 'Dennis1SmithJr' Dennis Smith JR\n",
    "#filname = 'jaytatum0' Jayson Tatum\n",
    "#filname = 'KarlTowns' Karl Anthony Towns\n",
    "\n",
    "filname = ['BenSimmons25','Dennis1SmithJr',\"kylekuzma\",'ZO2_','LeaderOfHorde','dillonbrooks24','JoelEmbiid','MalcolmMBrogdon',\n",
    "          'buddyhield','FCHWPO','MarkkanenLauri','KrisDunn3','swipathefox','BeMore27','FrankLikina','B_Ingram13','spidadmitchell',\n",
    "          'Dsabonis11','taureanprince','jaytatum0','KarlTowns']\n",
    "\n",
    "sublist = []\n",
    "for j in range(len(filname)):\n",
    "    for i in range(0, 10): # iterate through 2,000 tweets\n",
    "    # tweet extract method with the last list item as the max_id\n",
    "        user_timeline = twitter.get_user_timeline(screen_name=filname[j], count=200, include_retweets=True)\n",
    "    # put info into json file\n",
    "        for dict in user_timeline:\n",
    "            # get 'text' and date 'created_at'\n",
    "            subdict = {'date':dict['created_at'],'text':dict['text'], 'user':filname[j]}\n",
    "            sublist.append(subdict)\n",
    "    # output json file in a pretty style\n",
    "        output = open('my_twitter/'+ str(twitter) + '.json','w')\n",
    "        json.dump(sublist,output,indent=4)\n",
    "        output.close()\n",
    "\n",
    "#     for tweet in user_timeline:\n",
    "#         sublist.append(tweet['id']) ## append tweet id's"
   ]
  },
  {
   "cell_type": "code",
   "execution_count": null,
   "metadata": {},
   "outputs": [],
   "source": []
  }
 ],
 "metadata": {
  "kernelspec": {
   "display_name": "Python 3",
   "language": "python",
   "name": "python3"
  },
  "language_info": {
   "codemirror_mode": {
    "name": "ipython",
    "version": 3
   },
   "file_extension": ".py",
   "mimetype": "text/x-python",
   "name": "python",
   "nbconvert_exporter": "python",
   "pygments_lexer": "ipython3",
   "version": "3.6.5"
  }
 },
 "nbformat": 4,
 "nbformat_minor": 2
}
