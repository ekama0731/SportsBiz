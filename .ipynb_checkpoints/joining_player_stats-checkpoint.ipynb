{
 "cells": [
  {
   "cell_type": "code",
   "execution_count": 86,
   "metadata": {},
   "outputs": [],
   "source": [
    "# importing csv files to concat all the player's game performance into one dataset"
   ]
  },
  {
   "cell_type": "code",
   "execution_count": 2,
   "metadata": {},
   "outputs": [],
   "source": [
    "import pandas as pd\n",
    "import numpy as np"
   ]
  },
  {
   "cell_type": "code",
   "execution_count": 6,
   "metadata": {},
   "outputs": [],
   "source": [
    "data1 = pd.read_csv(\"./Desktop/CSV/donovan_mitchell.csv\")\n",
    "data1['player'] = 'donovan mitchell' "
   ]
  },
  {
   "cell_type": "code",
   "execution_count": 8,
   "metadata": {},
   "outputs": [],
   "source": [
    "data2 = pd.read_csv(\"./Desktop/CSV/ben_simmons.csv\", delimiter = ',')\n",
    "data2['player'] = 'ben simmons'"
   ]
  },
  {
   "cell_type": "code",
   "execution_count": 9,
   "metadata": {},
   "outputs": [],
   "source": [
    "data3 = pd.read_csv(\"./Desktop/CSV/bogdan_bogdanovic.csv\", delimiter = ',')\n",
    "data3['player'] = 'bogdan bogdanovic'"
   ]
  },
  {
   "cell_type": "code",
   "execution_count": 10,
   "metadata": {},
   "outputs": [],
   "source": [
    "data4 = pd.read_csv(\"./Desktop/CSV/brandon_ingram.csv\", delimiter = ',')\n",
    "data4['player'] = 'brandon ingram'"
   ]
  },
  {
   "cell_type": "code",
   "execution_count": 11,
   "metadata": {},
   "outputs": [],
   "source": [
    "data5 = pd.read_csv(\"./Desktop/CSV/buddy_hield.csv\", delimiter = ',')\n",
    "data5['player']= 'buddy hield'"
   ]
  },
  {
   "cell_type": "code",
   "execution_count": 12,
   "metadata": {},
   "outputs": [],
   "source": [
    "data6 = pd.read_csv(\"./Desktop/CSV/deaaron_fox.csv\", delimiter = ',')\n",
    "data6['player'] = 'deaaron fox'"
   ]
  },
  {
   "cell_type": "code",
   "execution_count": 13,
   "metadata": {},
   "outputs": [],
   "source": [
    "data7 = pd.read_csv(\"./Desktop/CSV/dennis_smith_jr.csv\", delimiter = ',')\n",
    "data7['player'] = 'dennis smith'"
   ]
  },
  {
   "cell_type": "code",
   "execution_count": 14,
   "metadata": {},
   "outputs": [],
   "source": [
    "data8 = pd.read_csv(\"./Desktop/CSV/dillon_brooks.csv\", delimiter = ',')\n",
    "data8['player']='dillon brooks'"
   ]
  },
  {
   "cell_type": "code",
   "execution_count": 15,
   "metadata": {},
   "outputs": [],
   "source": [
    "data9 = pd.read_csv(\"./Desktop/CSV/domantas_sabonis.csv\", delimiter = ',')\n",
    "data9['player']='domantas sabonis'"
   ]
  },
  {
   "cell_type": "code",
   "execution_count": 16,
   "metadata": {},
   "outputs": [],
   "source": [
    "data10 = pd.read_csv(\"./Desktop/CSV/frank_ntilikina.csv\", delimiter = ',')\n",
    "data10['player']='frank ntilikina'"
   ]
  },
  {
   "cell_type": "code",
   "execution_count": 17,
   "metadata": {},
   "outputs": [],
   "source": [
    "data11 = pd.read_csv(\"./Desktop/CSV/jamal_murray.csv\", delimiter = ',')\n",
    "data11['player'] = 'jamal murray'"
   ]
  },
  {
   "cell_type": "code",
   "execution_count": 18,
   "metadata": {},
   "outputs": [],
   "source": [
    "data12 = pd.read_csv(\"./Desktop/CSV/jaylen_brown.csv\", delimiter = ',')\n",
    "data12['player'] = 'jaylen brown'"
   ]
  },
  {
   "cell_type": "code",
   "execution_count": 19,
   "metadata": {},
   "outputs": [],
   "source": [
    "data13 = pd.read_csv(\"./Desktop/CSV/jayson_tatum.csv\", delimiter = ',')\n",
    "data13['player']='jayson tatum'"
   ]
  },
  {
   "cell_type": "code",
   "execution_count": 20,
   "metadata": {},
   "outputs": [],
   "source": [
    "data14 = pd.read_csv(\"./Desktop/CSV/joel_embiid.csv\", delimiter = ',')\n",
    "data14['player'] = 'joel embiid'"
   ]
  },
  {
   "cell_type": "code",
   "execution_count": 21,
   "metadata": {},
   "outputs": [],
   "source": [
    "data15 = pd.read_csv(\"./Desktop/CSV/karl_anthony_towns.csv\", delimiter = ',')\n",
    "data15['player'] = 'karl anthony towns'"
   ]
  },
  {
   "cell_type": "code",
   "execution_count": 22,
   "metadata": {},
   "outputs": [],
   "source": [
    "data16 = pd.read_csv(\"./Desktop/CSV/kris_dunn.csv\", delimiter = ',')\n",
    "data16['player'] = 'kris dunn'"
   ]
  },
  {
   "cell_type": "code",
   "execution_count": 23,
   "metadata": {},
   "outputs": [],
   "source": [
    "data17 = pd.read_csv(\"./Desktop/CSV/kyle_kuzma.csv\", delimiter = ',')\n",
    "data17['player'] = 'kyle kuzma'"
   ]
  },
  {
   "cell_type": "code",
   "execution_count": 24,
   "metadata": {},
   "outputs": [],
   "source": [
    "data18 = pd.read_csv(\"./Desktop/CSV/lauri_markkanen.csv\", delimiter = ',')\n",
    "data18['player'] = 'lauri markkanen'"
   ]
  },
  {
   "cell_type": "code",
   "execution_count": 25,
   "metadata": {},
   "outputs": [],
   "source": [
    "data19 = pd.read_csv(\"./Desktop/CSV/lonzo_ball.csv\", delimiter = ',')\n",
    "data19['player'] = 'lonzo ball'"
   ]
  },
  {
   "cell_type": "code",
   "execution_count": 26,
   "metadata": {},
   "outputs": [],
   "source": [
    "data20 = pd.read_csv(\"./Desktop/CSV/malcolm_brogdon.csv\", delimiter = ',')\n",
    "data20['player'] = 'malcolm brogdon'"
   ]
  },
  {
   "cell_type": "code",
   "execution_count": 27,
   "metadata": {},
   "outputs": [],
   "source": [
    "data21 = pd.read_csv(\"./Desktop/CSV/taurean_prince.csv\", delimiter = ',')\n",
    "data21['player'] = 'taurean prince'"
   ]
  },
  {
   "cell_type": "code",
   "execution_count": 28,
   "metadata": {},
   "outputs": [
    {
     "name": "stderr",
     "output_type": "stream",
     "text": [
      "/Users/emanuelkamali/anaconda3/lib/python3.6/site-packages/ipykernel_launcher.py:1: FutureWarning: Sorting because non-concatenation axis is not aligned. A future version\n",
      "of pandas will change to not sort by default.\n",
      "\n",
      "To accept the future behavior, pass 'sort=True'.\n",
      "\n",
      "To retain the current behavior and silence the warning, pass sort=False\n",
      "\n",
      "  \"\"\"Entry point for launching an IPython kernel.\n"
     ]
    }
   ],
   "source": [
    "data = pd.concat([data1,data2,data3,data4,data5,data6,data7,data8,data9,data10,data11,data12,data13,data14,data15,data16,data17,data18,data19,data20,data21],axis = 0).reset_index()"
   ]
  },
  {
   "cell_type": "code",
   "execution_count": 30,
   "metadata": {},
   "outputs": [],
   "source": [
    "data = data.drop(['index', 'Age', 'Unnamed: 30', 'Tm'], axis = 1)"
   ]
  },
  {
   "cell_type": "code",
   "execution_count": 31,
   "metadata": {},
   "outputs": [],
   "source": [
    "data.to_csv('nba_player_data.csv')"
   ]
  }
 ],
 "metadata": {
  "kernelspec": {
   "display_name": "Python 3",
   "language": "python",
   "name": "python3"
  },
  "language_info": {
   "codemirror_mode": {
    "name": "ipython",
    "version": 3
   },
   "file_extension": ".py",
   "mimetype": "text/x-python",
   "name": "python",
   "nbconvert_exporter": "python",
   "pygments_lexer": "ipython3",
   "version": "3.6.5"
  }
 },
 "nbformat": 4,
 "nbformat_minor": 2
}
