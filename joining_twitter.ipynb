{
 "cells": [
  {
   "cell_type": "code",
   "execution_count": 2,
   "metadata": {},
   "outputs": [],
   "source": [
    "import os \n",
    "import codecs\n",
    "import json\n",
    "import pandas as pd\n",
    "import numpy as np\n",
    "from collections import Counter\n",
    "from textblob import TextBlob\n",
    "import re\n",
    "import datetime"
   ]
  },
  {
   "cell_type": "code",
   "execution_count": 3,
   "metadata": {},
   "outputs": [],
   "source": [
    "# converting the json file to a dataframe\n",
    "def jsonreader(file):\n",
    "    with open(file) as json_data:\n",
    "        data = json.load(json_data)\n",
    "    \n",
    "    df = pd.DataFrame()\n",
    "    \n",
    "    for i in range(len(data)):\n",
    "#         for j in range(len(data[i])): \n",
    "            df = df.append(pd.io.json.json_normalize(data[i]), ignore_index = True)\n",
    "        \n",
    "    return df"
   ]
  },
  {
   "cell_type": "code",
   "execution_count": 4,
   "metadata": {},
   "outputs": [],
   "source": [
    "df_1 = jsonreader('./Desktop/my_twitter/B_Ingram13.json') # Brandon Ingram"
   ]
  },
  {
   "cell_type": "code",
   "execution_count": 177,
   "metadata": {},
   "outputs": [],
   "source": [
    "df_2 = jsonreader('./Desktop/my_twitter/BenSimmons25.json') # Ben Simmons"
   ]
  },
  {
   "cell_type": "code",
   "execution_count": 93,
   "metadata": {},
   "outputs": [],
   "source": [
    "df_3 = jsonreader('./Desktop/my_twitter/Dennis1SmithJr.json') # Dennis Smith"
   ]
  },
  {
   "cell_type": "code",
   "execution_count": 94,
   "metadata": {},
   "outputs": [],
   "source": [
    "df_4 = jsonreader('./Desktop/my_twitter/Dsabonis11.json') # Damonats Sabonis"
   ]
  },
  {
   "cell_type": "code",
   "execution_count": 95,
   "metadata": {},
   "outputs": [],
   "source": [
    "df_5 = jsonreader('./Desktop/my_twitter/FCHWPO.json') # Jaylen Brown"
   ]
  },
  {
   "cell_type": "code",
   "execution_count": 96,
   "metadata": {},
   "outputs": [],
   "source": [
    "df_6 = jsonreader('./Desktop/my_twitter/FrankLikina.json') # Frank N"
   ]
  },
  {
   "cell_type": "code",
   "execution_count": 97,
   "metadata": {},
   "outputs": [],
   "source": [
    "df_7 = jsonreader('./Desktop/my_twitter/JoelEmbiid.json') # Joel Embiid"
   ]
  },
  {
   "cell_type": "code",
   "execution_count": 98,
   "metadata": {},
   "outputs": [],
   "source": [
    "df_8 = jsonreader('./Desktop/my_twitter/KarlTowns.json') # Karl Anthony"
   ]
  },
  {
   "cell_type": "code",
   "execution_count": 99,
   "metadata": {},
   "outputs": [],
   "source": [
    "df_9 = jsonreader('./Desktop/my_twitter/KrisDunn3.json') # Kris Dunn"
   ]
  },
  {
   "cell_type": "code",
   "execution_count": 100,
   "metadata": {},
   "outputs": [],
   "source": [
    "df_10 = jsonreader('./Desktop/my_twitter/LeaderOfHorde.json') # Bogdan Bogdanovic"
   ]
  },
  {
   "cell_type": "code",
   "execution_count": 101,
   "metadata": {},
   "outputs": [],
   "source": [
    "df_11 = jsonreader('./Desktop/my_twitter/MalcolmMBrogdon.json') # Malcolm Brogdon"
   ]
  },
  {
   "cell_type": "code",
   "execution_count": 102,
   "metadata": {},
   "outputs": [],
   "source": [
    "df_12 = jsonreader('./Desktop/my_twitter/ZO2_.json') # Lonzo Ball"
   ]
  },
  {
   "cell_type": "code",
   "execution_count": 103,
   "metadata": {},
   "outputs": [],
   "source": [
    "df_13 = jsonreader('./Desktop/my_twitter/MarkkanenLauri.json') # Lauri Markkanen"
   ]
  },
  {
   "cell_type": "code",
   "execution_count": 104,
   "metadata": {},
   "outputs": [],
   "source": [
    "df_14 = jsonreader('./Desktop/my_twitter/buddyhield.json') # Buddy Hield"
   ]
  },
  {
   "cell_type": "code",
   "execution_count": 105,
   "metadata": {},
   "outputs": [],
   "source": [
    "df_15 = jsonreader('./Desktop/my_twitter/dillonbrooks24.json') # Dillon Brooks"
   ]
  },
  {
   "cell_type": "code",
   "execution_count": 106,
   "metadata": {},
   "outputs": [],
   "source": [
    "df_16 = jsonreader('./Desktop/my_twitter/jaytatum0.json') # Jayson Tatum"
   ]
  },
  {
   "cell_type": "code",
   "execution_count": 107,
   "metadata": {},
   "outputs": [],
   "source": [
    "df_17 = jsonreader('./Desktop/my_twitter/kylekuzma.json') # Kyle Kuzma"
   ]
  },
  {
   "cell_type": "code",
   "execution_count": 108,
   "metadata": {},
   "outputs": [],
   "source": [
    "df_18 = jsonreader('./Desktop/my_twitter/spidadmitchell.json') # Donoavan Mitchell"
   ]
  },
  {
   "cell_type": "code",
   "execution_count": 109,
   "metadata": {},
   "outputs": [],
   "source": [
    "df_19 = jsonreader('./Desktop/my_twitter/swipathefox.json') # De'Aaron Fox"
   ]
  },
  {
   "cell_type": "code",
   "execution_count": 110,
   "metadata": {},
   "outputs": [],
   "source": [
    "df_20 = jsonreader('./Desktop/my_twitter/taureanprince.json') # Taurean Prince"
   ]
  },
  {
   "cell_type": "code",
   "execution_count": 147,
   "metadata": {},
   "outputs": [],
   "source": [
    "# concatinating all dfs together to create a new dataframe\n",
    "data = pd.concat([df_1,df_2,df_3,df_4,df_5,df_6,df_7,df_8,df_9,df_10,df_11,df_12,df_13,df_14,df_15,df_16,df_17,df_18,df_19,df_20], axis = 0).reset_index()"
   ]
  },
  {
   "cell_type": "code",
   "execution_count": 148,
   "metadata": {},
   "outputs": [],
   "source": [
    "data['date'] = pd.to_datetime(data['date']) # converted our date column to a date time type"
   ]
  },
  {
   "cell_type": "code",
   "execution_count": 123,
   "metadata": {},
   "outputs": [],
   "source": [
    "df= df.drop(['date','index'], axis = 1)"
   ]
  },
  {
   "cell_type": "code",
   "execution_count": 31,
   "metadata": {},
   "outputs": [],
   "source": [
    "df.to_csv('nba_twitter_data.csv') # saving the new dataframe to a csv file"
   ]
  },
  {
   "cell_type": "code",
   "execution_count": 5,
   "metadata": {},
   "outputs": [],
   "source": [
    "data['date'] = pd.to_datetime(data['date'])"
   ]
  }
 ],
 "metadata": {
  "kernelspec": {
   "display_name": "Python 3",
   "language": "python",
   "name": "python3"
  },
  "language_info": {
   "codemirror_mode": {
    "name": "ipython",
    "version": 3
   },
   "file_extension": ".py",
   "mimetype": "text/x-python",
   "name": "python",
   "nbconvert_exporter": "python",
   "pygments_lexer": "ipython3",
   "version": "3.6.5"
  }
 },
 "nbformat": 4,
 "nbformat_minor": 2
}
